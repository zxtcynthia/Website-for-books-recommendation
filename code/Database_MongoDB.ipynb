{
 "cells": [
  {
   "cell_type": "markdown",
   "metadata": {
    "collapsed": true
   },
   "source": [
    "# Group: Synergy"
   ]
  },
  {
   "cell_type": "markdown",
   "metadata": {},
   "source": [
    "This code is used to create database on MongoDB"
   ]
  },
  {
   "cell_type": "code",
   "execution_count": null,
   "metadata": {
    "collapsed": true
   },
   "outputs": [],
   "source": [
    "from pymongo import MongoClient\n",
    "import json\n",
    "from bson.objectid import ObjectId\n",
    "import numpy as np\n",
    "import string\n",
    "import pandas as pd"
   ]
  },
  {
   "cell_type": "code",
   "execution_count": 51,
   "metadata": {
    "collapsed": true
   },
   "outputs": [],
   "source": [
    "r1 = open('Output.json')\n",
    "d1 = json.load(r1)"
   ]
  },
  {
   "cell_type": "code",
   "execution_count": 52,
   "metadata": {
    "collapsed": false
   },
   "outputs": [],
   "source": [
    "d2=[]\n",
    "for k,v in d1.items():\n",
    "    v[\"ISBN\"]=k\n",
    "    d2.append(v)"
   ]
  },
  {
   "cell_type": "code",
   "execution_count": 53,
   "metadata": {
    "collapsed": true
   },
   "outputs": [],
   "source": [
    "for i in range(len(d2)):\n",
    "    d2[i]['author'] = d2[i]['author'].title()\n",
    "    d2[i]['Name'] = string.capwords(d2[i]['Name'])\n",
    "    d2[i]['Ratings']['average score'] = '%.1f' % (d2[i]['Ratings']['average score'])"
   ]
  },
  {
   "cell_type": "code",
   "execution_count": 55,
   "metadata": {
    "collapsed": false
   },
   "outputs": [],
   "source": [
    "client = MongoClient()"
   ]
  },
  {
   "cell_type": "code",
   "execution_count": 56,
   "metadata": {
    "collapsed": true
   },
   "outputs": [],
   "source": [
    "db = client.Project"
   ]
  },
  {
   "cell_type": "code",
   "execution_count": 57,
   "metadata": {
    "collapsed": true
   },
   "outputs": [],
   "source": [
    "books = db.books "
   ]
  },
  {
   "cell_type": "code",
   "execution_count": 58,
   "metadata": {
    "collapsed": false
   },
   "outputs": [
    {
     "data": {
      "text/plain": [
       "<pymongo.results.InsertManyResult at 0x114d17ab0>"
      ]
     },
     "execution_count": 58,
     "metadata": {},
     "output_type": "execute_result"
    }
   ],
   "source": [
    "books.insert_many(d2)"
   ]
  },
  {
   "cell_type": "code",
   "execution_count": 59,
   "metadata": {
    "collapsed": false
   },
   "outputs": [],
   "source": [
    "rating=pd.read_csv(\"all_user_match.csv\")"
   ]
  },
  {
   "cell_type": "code",
   "execution_count": 60,
   "metadata": {
    "collapsed": false
   },
   "outputs": [],
   "source": [
    "rating.columns=['User_ID','ISBN','Rating']"
   ]
  },
  {
   "cell_type": "code",
   "execution_count": 61,
   "metadata": {
    "collapsed": false
   },
   "outputs": [],
   "source": [
    "ratinglist=[]\n",
    "for i in range(rating.shape[0]):\n",
    "    ratinglist.append({\"User_ID\":str(rating.iloc[i,0]),\"ISBN\":rating.iloc[i,1],\"Rating\":str(rating.iloc[i,2])})"
   ]
  },
  {
   "cell_type": "code",
   "execution_count": 62,
   "metadata": {
    "collapsed": false
   },
   "outputs": [],
   "source": [
    "#db.getCollection(\"users\").drop()"
   ]
  },
  {
   "cell_type": "code",
   "execution_count": 63,
   "metadata": {
    "collapsed": false
   },
   "outputs": [],
   "source": [
    "ratings = db.ratings "
   ]
  },
  {
   "cell_type": "code",
   "execution_count": 64,
   "metadata": {
    "collapsed": false
   },
   "outputs": [
    {
     "data": {
      "text/plain": [
       "<pymongo.results.InsertManyResult at 0x11750c870>"
      ]
     },
     "execution_count": 64,
     "metadata": {},
     "output_type": "execute_result"
    }
   ],
   "source": [
    "ratings.insert_many(ratinglist)"
   ]
  },
  {
   "cell_type": "code",
   "execution_count": 65,
   "metadata": {
    "collapsed": false
   },
   "outputs": [],
   "source": [
    "user = pd.read_csv(\"users.csv\", encoding=\"latin1\")"
   ]
  },
  {
   "cell_type": "code",
   "execution_count": 66,
   "metadata": {
    "collapsed": false
   },
   "outputs": [],
   "source": [
    "del user['Unnamed: 0']\n",
    "del user['Age']"
   ]
  },
  {
   "cell_type": "code",
   "execution_count": 67,
   "metadata": {
    "collapsed": false
   },
   "outputs": [],
   "source": [
    "user.columns = ['User_ID', 'Location']"
   ]
  },
  {
   "cell_type": "code",
   "execution_count": 68,
   "metadata": {
    "collapsed": false
   },
   "outputs": [],
   "source": [
    "result = pd.merge(user, rating, on='User_ID')"
   ]
  },
  {
   "cell_type": "code",
   "execution_count": 69,
   "metadata": {
    "collapsed": false
   },
   "outputs": [],
   "source": [
    "l = []\n",
    "for i in range(result.shape[0]):\n",
    "    if result.iloc[i, 1][-3:] != 'usa':\n",
    "        l.append(i)\n",
    "    else:\n",
    "        result.iloc[i, 1] = result.iloc[i, 1].split(',')[1].strip()\n",
    "result = result.drop(result.index[l])"
   ]
  },
  {
   "cell_type": "code",
   "execution_count": 70,
   "metadata": {
    "collapsed": true
   },
   "outputs": [],
   "source": [
    "result['region'] = ''"
   ]
  },
  {
   "cell_type": "code",
   "execution_count": 71,
   "metadata": {
    "collapsed": false
   },
   "outputs": [],
   "source": [
    "NE = ['maine', 'massachusetts', 'rhode island', 'connecticut', 'new hampshire',\n",
    "      'vermont', 'new york', 'pennsylvania', 'new jersey', 'delaware', 'maryland']\n",
    "SE = ['west virginia', 'virginia', 'kentucky', 'tennessee', 'north carolina',\n",
    "      'south carolina', 'georgia', 'alabama', 'mississippi', 'arkansas', 'louisiana', 'florida']\n",
    "MW = ['ohio', 'indiana', 'michigan', 'illinois', 'missouri', 'wisconsin',\n",
    "      'minnesota', 'iowa', 'kansas', 'nebraska', 'south dakota', 'north dakota']\n",
    "SW = ['texas', 'oklahoma', 'new mexico', 'arizona']\n",
    "W = ['colorado', 'wyoming', 'montana', 'idaho', 'washington',\n",
    "     'oregon', 'utah', 'nevada', 'california', 'alaska', 'hawaii']"
   ]
  },
  {
   "cell_type": "code",
   "execution_count": 72,
   "metadata": {
    "collapsed": false,
    "scrolled": false
   },
   "outputs": [],
   "source": [
    "for i in range(result.shape[0]):\n",
    "    if result.iloc[i, 1] in NE:\n",
    "        result.iloc[i, 4] = 'NouthEast'\n",
    "    elif result.iloc[i, 1] in SE:\n",
    "        result.iloc[i, 4] = 'SouthEast'\n",
    "    elif result.iloc[i, 1] in MW:\n",
    "        result.iloc[i, 4] = 'MidEast'\n",
    "    elif result.iloc[i, 1] in SW:\n",
    "        result.iloc[i, 4] = 'SouthWest'\n",
    "    elif result.iloc[i, 1] in W:\n",
    "        result.iloc[i, 4] = 'West'\n",
    "    else:\n",
    "        result.iloc[i, 4] = 'Other'"
   ]
  },
  {
   "cell_type": "code",
   "execution_count": 73,
   "metadata": {
    "collapsed": false,
    "scrolled": true
   },
   "outputs": [],
   "source": [
    "result = result.reset_index()"
   ]
  },
  {
   "cell_type": "code",
   "execution_count": 74,
   "metadata": {
    "collapsed": true
   },
   "outputs": [],
   "source": [
    "del result['index']"
   ]
  },
  {
   "cell_type": "code",
   "execution_count": 75,
   "metadata": {
    "collapsed": false
   },
   "outputs": [],
   "source": [
    "userlist = []\n",
    "for i in range(result.shape[0]):\n",
    "    userlist.append({\"User_ID\": str(result.iloc[i, 0]), \"Location\": result.iloc[\n",
    "                    i, 1], \"ISBN\": result.iloc[i, 2], \"Rating\": str(result.iloc[i, 3]), \"region\": result.iloc[i, 4]})"
   ]
  },
  {
   "cell_type": "code",
   "execution_count": 76,
   "metadata": {
    "collapsed": false
   },
   "outputs": [],
   "source": [
    "users = db.users"
   ]
  },
  {
   "cell_type": "code",
   "execution_count": 77,
   "metadata": {
    "collapsed": false
   },
   "outputs": [
    {
     "data": {
      "text/plain": [
       "<pymongo.results.InsertManyResult at 0x11a04c4c8>"
      ]
     },
     "execution_count": 77,
     "metadata": {},
     "output_type": "execute_result"
    }
   ],
   "source": [
    "users.insert_many(userlist)"
   ]
  },
  {
   "cell_type": "code",
   "execution_count": 81,
   "metadata": {
    "collapsed": true
   },
   "outputs": [],
   "source": [
    "def around(region, users, books):\n",
    "    string = \"\"\n",
    "    for i in users.find({'region': region}):\n",
    "        isbn = i['ISBN'].zfill(10)\n",
    "        tag = books.find_one({'ISBN': isbn})['tags']\n",
    "        for j in tag:\n",
    "            string += ' ' + j\n",
    "    return string"
   ]
  },
  {
   "cell_type": "markdown",
   "metadata": {
    "collapsed": true
   },
   "source": [
    "# END"
   ]
  }
 ],
 "metadata": {
  "anaconda-cloud": {},
  "kernelspec": {
   "display_name": "Python [conda root]",
   "language": "python",
   "name": "conda-root-py"
  },
  "language_info": {
   "codemirror_mode": {
    "name": "ipython",
    "version": 3
   },
   "file_extension": ".py",
   "mimetype": "text/x-python",
   "name": "python",
   "nbconvert_exporter": "python",
   "pygments_lexer": "ipython3",
   "version": "3.5.2"
  }
 },
 "nbformat": 4,
 "nbformat_minor": 0
}
